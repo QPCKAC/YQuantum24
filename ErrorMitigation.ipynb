{
 "cells": [
  {
   "cell_type": "code",
   "execution_count": 4,
   "metadata": {
    "colab": {
     "base_uri": "https://localhost:8080/",
     "height": 360
    },
    "id": "3Yx5dIYMpEr-",
    "outputId": "5d3005c0-73d0-4f55-ee01-93dda55fe167"
   },
   "outputs": [],
   "source": [
    "import numpy as np\n",
    "import matplotlib.pyplot as plt\n",
    "from collections import OrderedDict, defaultdict\n",
    "import random\n",
    "\n",
    "from qiskit.quantum_info import Statevector, random_statevector\n",
    "from qiskit.visualization import array_to_latex, plot_histogram\n",
    "from qiskit.visualization.bloch import Bloch"
   ]
  },
  {
   "cell_type": "code",
   "execution_count": 65,
   "metadata": {},
   "outputs": [],
   "source": [
    "def decimalToBinary(n, dim):\n",
    "    return \"0\"*(dim - len(bin(n).replace(\"0b\", \"\"))) + bin(n).replace(\"0b\", \"\")\n",
    "\n",
    "def count_common_bits(bitstring1, bitstring2):\n",
    "    common_zeros = 0\n",
    "    common_ones = 0\n",
    "    for bit1, bit2 in zip(bitstring1, bitstring2):\n",
    "        if bit1 == bit2:  # Check if the bits are the same\n",
    "            if bit1 == '0':\n",
    "                common_zeros += 1\n",
    "            elif bit1 == '1':\n",
    "                common_ones += 1\n",
    "    return common_zeros, common_ones\n",
    "\n",
    "def mitigate_matrix(num_qubits):\n",
    "    error_01 = 0.05\n",
    "    error_10 = 0.01\n",
    "    matrix = np.zeros((2**num_qubits, 2**num_qubits))\n",
    "    for i in range(2**num_qubits):\n",
    "        for j in range(2**num_qubits):\n",
    "            if i != j:\n",
    "                bits_i = decimalToBinary(i, num_qubits)\n",
    "                bits_j = decimalToBinary(j, num_qubits)\n",
    "                common_zeros, common_ones = count_common_bits(bits_i, bits_j)\n",
    "                matrix[i][j] = 0.95**(num_qubits-common_zeros) * 0.99**(num_qubits-common_ones)\n",
    "            else:\n",
    "                bits_i = decimalToBinary(i, num_qubits)\n",
    "                bits_j = decimalToBinary(j, num_qubits)\n",
    "                common_zeros, common_ones = count_common_bits(bits_i, bits_j)\n",
    "                matrix[i][i] = 1 - 0.05**(num_qubits-common_zeros) * 0.01**(num_qubits-common_ones)\n",
    "    return np.linalg.pinv(matrix)"
   ]
  },
  {
   "cell_type": "code",
   "execution_count": 66,
   "metadata": {},
   "outputs": [
    {
     "data": {
      "text/plain": [
       "array([[12.56441715, -6.15267661, -6.15267661, -0.11950599],\n",
       "       [-6.15267661,  9.1262754 ,  0.42757868, -3.10159366],\n",
       "       [-6.15267661,  0.42757868,  9.1262754 , -3.10159366],\n",
       "       [-0.11950599, -3.10159366, -3.10159366,  6.66476255]])"
      ]
     },
     "execution_count": 66,
     "metadata": {},
     "output_type": "execute_result"
    }
   ],
   "source": [
    "mitigate_matrix(2)"
   ]
  },
  {
   "cell_type": "code",
   "execution_count": 67,
   "metadata": {},
   "outputs": [],
   "source": [
    "def mitigate(num_qubits):\n",
    "    E = np.array([[0.99, 0.01], \n",
    "                    [0.05, 0.95]])\n",
    "    op = E\n",
    "    for i in range(num_qubits-1):\n",
    "        op = np.kron(op, E)\n",
    "    \n",
    "    return np.linalg.inv(op)\n",
    "\n",
    "def dict_to_state(d):\n",
    "    first_label = list(d.keys())[0]\n",
    "    num_qubits = len(first_label)\n",
    "    num_shots = sum(d.values())\n",
    "    state = np.sqrt(d[first_label]/num_shots)*Statevector.from_label(first_label)\n",
    "    \n",
    "    for label in list(d.keys())[1:]:\n",
    "        state += np.sqrt((d[label]/num_shots))*Statevector.from_label(label)\n",
    "    return state\n",
    "\n",
    "def scramble(all_measurements):\n",
    "    error_rate_0_to_1 = 0.05\n",
    "    error_rate_1_to_0 = 0.01\n",
    "    scrambled_results = defaultdict(int)\n",
    "\n",
    "    # Process each bitstring in the original OrderedDict\n",
    "    for bitstring, count in all_measurements.items():\n",
    "        state_distribution = defaultdict(int)\n",
    "        \n",
    "        # Simulate errors for each measurement count\n",
    "        for _ in range(count):\n",
    "            new_bitstring = []\n",
    "            for bit in bitstring:\n",
    "                if bit == '0':\n",
    "                    new_bitstring.append('1' if random.random() < error_rate_0_to_1 else '0')\n",
    "                elif bit == '1':\n",
    "                    new_bitstring.append('0' if random.random() < error_rate_1_to_0 else '1')\n",
    "            new_bitstring = ''.join(new_bitstring)\n",
    "            state_distribution[new_bitstring] += 1\n",
    "\n",
    "        # Accumulate the simulated results into the scrambled_results dictionary\n",
    "        for bs, cnt in state_distribution.items():\n",
    "            scrambled_results[bs] += cnt\n",
    "\n",
    "    # Return an OrderedDict sorted by bitstring keys to preserve some order\n",
    "    return OrderedDict(sorted(scrambled_results.items(), key=lambda x: x[0]))"
   ]
  },
  {
   "cell_type": "code",
   "execution_count": 79,
   "metadata": {},
   "outputs": [],
   "source": [
    "d_exact = OrderedDict([('01010101010', 62),\n",
    "             ('01110101010', 15),\n",
    "             ('01010111010', 14),\n",
    "             ('01010101110', 12),\n",
    "             ('11010101010', 9),\n",
    "             ('01010101011', 8),\n",
    "             ('01011101010', 6),\n",
    "             ('10101010101', 5),\n",
    "             ('01110101011', 4),\n",
    "             ('01010101111', 3),\n",
    "             ('01010111110', 3),\n",
    "             ('01011111010', 3),\n",
    "             ('01101011010', 3),\n",
    "             ('01101101010', 3),\n",
    "             ('01110111010', 3),\n",
    "             ('11110101010', 3),\n",
    "             ('01011101011', 2),\n",
    "             ('01011110110', 2),\n",
    "             ('01101011011', 2),\n",
    "             ('01110101110', 2),\n",
    "             ('01111101010', 2),\n",
    "             ('11011010110', 2),\n",
    "             ('01010101101', 1),\n",
    "             ('01011010101', 1),\n",
    "             ('01011010110', 1),\n",
    "             ('01011010111', 1),\n",
    "             ('01011101110', 1),\n",
    "             ('01101010101', 1),\n",
    "             ('01101011110', 1),\n",
    "             ('01101101110', 1),\n",
    "             ('01101111011', 1),\n",
    "             ('01111011010', 1),])\n",
    "\n",
    "d_noisy = scramble(d_exact)\n",
    "\n",
    "num_shots = sum(d_exact.values())\n",
    "num_qubits = len(list(d_exact.keys())[0])"
   ]
  },
  {
   "cell_type": "code",
   "execution_count": 80,
   "metadata": {},
   "outputs": [],
   "source": [
    "exact_sv = dict_to_state(d_exact)\n",
    "noisy_sv = dict_to_state(d_noisy)\n",
    "corrected_sv = mitigate_matrix(num_qubits).dot(noisy_sv)\n",
    "corrected_sv = Statevector((1/np.linalg.norm(corrected_sv))*corrected_sv)"
   ]
  },
  {
   "cell_type": "code",
   "execution_count": 81,
   "metadata": {},
   "outputs": [
    {
     "data": {
      "image/png": "[encoded data removed]",
      "text/plain": [
       "<Figure size 500x400 with 1 Axes>"
      ]
     },
     "execution_count": 81,
     "metadata": {},
     "output_type": "execute_result"
    }
   ],
   "source": [
    "plot_histogram([d_exact, d_noisy, corrected_sv.sample_counts(num_shots)], \n",
    "               sort='value_desc', legend=['exact', 'noisy', 'mitigated'], \n",
    "               number_to_keep=3, figsize=(5, 4))"
   ]
  },
  {
   "cell_type": "code",
   "execution_count": null,
   "metadata": {},
   "outputs": [],
   "source": []
  }
 ],
 "metadata": {
  "colab": {
   "provenance": []
  },
  "kernelspec": {
   "display_name": "Python 3 (ipykernel)",
   "language": "python",
   "name": "python3"
  },
  "language_info": {
   "codemirror_mode": {
    "name": "ipython",
    "version": 3
   },
   "file_extension": ".py",
   "mimetype": "text/x-python",
   "name": "python",
   "nbconvert_exporter": "python",
   "pygments_lexer": "ipython3",
   "version": "3.10.9"
  }
 },
 "nbformat": 4,
 "nbformat_minor": 1
}
